{
 "cells": [
  {
   "cell_type": "code",
   "execution_count": 20,
   "id": "5d65bd08",
   "metadata": {},
   "outputs": [],
   "source": [
    "import PIL.Image\n",
    "import PIL.ImageDraw\n",
    "import PIL.ImageFont\n",
    "import matplotlib.pyplot as plt\n",
    "import numpy as np\n",
    "import codecs\n",
    "import os"
   ]
  },
  {
   "cell_type": "code",
   "execution_count": 21,
   "id": "4a0efce5",
   "metadata": {},
   "outputs": [],
   "source": [
    "imagePath = \"image.png\"\n",
    "ttfontname = \"C:\\\\Windows\\\\Fonts\\\\meiryob.ttc\"\n",
    "outputtextpath = 'output.txt'\n",
    "\n",
    "def make_text_Image(text,fontsize=12,isVartical=True):\n",
    "    \"\"\"\n",
    "    converting text to images\n",
    "\n",
    "    This code converts character text into images and supports both vertical and horizontal writing.\n",
    "    \"\"\"\n",
    "\n",
    "    margin = int(fontsize / 3)\n",
    "    textLength = len(text)\n",
    "    canvasSize = (fontsize,fontsize)\n",
    "    if isVartical:\n",
    "        canvasSize = (fontsize+margin,fontsize*textLength + margin)\n",
    "    else:\n",
    "        canvasSize = (fontsize*textLength +margin,fontsize +margin)\n",
    "    backgroundRGB = (255, 255, 255)\n",
    "    textRGB       = (0, 0, 0)\n",
    "    img  = PIL.Image.new('RGB', canvasSize, backgroundRGB)\n",
    "    draw = PIL.ImageDraw.Draw(img)\n",
    "    font = PIL.ImageFont.truetype(ttfontname, fontsize)\n",
    "    if isVartical:\n",
    "        for i in range(textLength):\n",
    "            topleft = (canvasSize[0]//2-fontsize//2,fontsize*i)\n",
    "            draw.text(topleft, text[i], fill=textRGB, font=font)\n",
    "    else:\n",
    "        for i in range(textLength):\n",
    "            topleft = (fontsize*i, canvasSize[1]//2-fontsize//2-margin//2)\n",
    "            draw.text(topleft, text[i], fill=textRGB, font=font)\n",
    "    img.save(imagePath)"
   ]
  },
  {
   "attachments": {},
   "cell_type": "markdown",
   "id": "44231629",
   "metadata": {},
   "source": [
    "# 文字の集合体で文字を書くコード"
   ]
  },
  {
   "cell_type": "code",
   "execution_count": 22,
   "id": "86cdb957",
   "metadata": {},
   "outputs": [],
   "source": [
    "\n",
    "\n",
    "def print_text(imagearray:np.ndarray,myword:str) -> None:\n",
    "    \"\"\"\n",
    "    Create a collection of characters as a text file\n",
    "    \"\"\"\n",
    "    count = 0\n",
    "    def word_out(value:int,myword:str):\n",
    "        \"\"\"\n",
    "        At coordinates where there are character lines in the image, \n",
    "        the string data is returned,\n",
    "         and full-width spaces are returned where there are no characters.\n",
    "        \"\"\"\n",
    "        mywordcount = len(myword)\n",
    "        nonlocal count\n",
    "        if value > 250:\n",
    "            return \"　\"\n",
    "        else:\n",
    "            if count == mywordcount:\n",
    "                count = 0\n",
    "            count += 1\n",
    "            return myword[count-1]\n",
    "    \n",
    "    if os.path.isfile(outputtextpath):\n",
    "        os.remove(outputtextpath)\n",
    "\n",
    "    for item in imagearray:\n",
    "        mystr = \"\".join([word_out(i,myword=myword) for i in item])\n",
    "        print(mystr, file=codecs.open(outputtextpath, 'a', 'utf-8'))\n"
   ]
  },
  {
   "attachments": {},
   "cell_type": "markdown",
   "id": "7ab78c7a",
   "metadata": {},
   "source": [
    "# 実行"
   ]
  },
  {
   "cell_type": "code",
   "execution_count": 23,
   "id": "b3b27437",
   "metadata": {},
   "outputs": [],
   "source": [
    "make_text_Image(text=\"こんにちは\",fontsize=20)"
   ]
  },
  {
   "attachments": {},
   "cell_type": "markdown",
   "id": "72dcc99d",
   "metadata": {},
   "source": [
    "# 画像の表示"
   ]
  },
  {
   "cell_type": "code",
   "execution_count": 24,
   "id": "9f83bd43",
   "metadata": {},
   "outputs": [
    {
     "data": {
      "text/plain": [
       "<matplotlib.image.AxesImage at 0x279e8427f40>"
      ]
     },
     "execution_count": 24,
     "metadata": {},
     "output_type": "execute_result"
    },
    {
     "data": {
      "image/png": "[encoded data removed]",
      "text/plain": [
       "<Figure size 640x480 with 1 Axes>"
      ]
     },
     "metadata": {},
     "output_type": "display_data"
    }
   ],
   "source": [
    "im = PIL.Image.open(imagePath)\n",
    "im = im.convert('L')\n",
    "plt.gray()\n",
    "im_array = np.asarray(im)\n",
    "plt.imshow(im_array)"
   ]
  },
  {
   "cell_type": "code",
   "execution_count": 25,
   "id": "de96db77",
   "metadata": {},
   "outputs": [],
   "source": [
    "# こんにちは、という言葉の集合体で、文字を描いていく。\n",
    "print_text(imagearray=im_array,myword=\"こんにちは\")"
   ]
  }
 ],
 "metadata": {
  "kernelspec": {
   "display_name": ".venv",
   "language": "python",
   "name": "python3"
  },
  "language_info": {
   "codemirror_mode": {
    "name": "ipython",
    "version": 3
   },
   "file_extension": ".py",
   "mimetype": "text/x-python",
   "name": "python",
   "nbconvert_exporter": "python",
   "pygments_lexer": "ipython3",
   "version": "3.10.9"
  },
  "vscode": {
   "interpreter": {
    "hash": "c787cafbd09916d884ef374caa8c77544b901030963e9451d459a81b233979ad"
   }
  }
 },
 "nbformat": 4,
 "nbformat_minor": 5
}
