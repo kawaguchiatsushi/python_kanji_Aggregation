{
 "cells": [
  {
   "cell_type": "code",
   "execution_count": 17,
   "id": "5d65bd08",
   "metadata": {},
   "outputs": [],
   "source": [
    "import PIL.Image\n",
    "import PIL.ImageDraw\n",
    "import PIL.ImageFont\n",
    "import matplotlib.pyplot as plt\n",
    "import numpy as np\n",
    "import codecs\n",
    "import os"
   ]
  },
  {
   "cell_type": "code",
   "execution_count": 18,
   "id": "4a0efce5",
   "metadata": {},
   "outputs": [],
   "source": [
    "imagePath = \"image.png\"\n",
    "ttfontname = \"C:\\\\Windows\\\\Fonts\\\\meiryob.ttc\"\n",
    "outputtextpath = 'output.txt'\n",
    "\n",
    "def make_text_Image(text,fontsize=12,isVartical=True):\n",
    "    \"\"\"\n",
    "    converting text to images\n",
    "\n",
    "    This code converts character text into images and supports both vertical and horizontal writing.\n",
    "    \"\"\"\n",
    "\n",
    "    margin = int(fontsize / 3)\n",
    "    textLength = len(text)\n",
    "    canvasSize = (fontsize,fontsize)\n",
    "    if isVartical:\n",
    "        canvasSize = (fontsize+margin,fontsize*textLength + margin)\n",
    "    else:\n",
    "        canvasSize = (fontsize*textLength +margin,fontsize +margin)\n",
    "    backgroundRGB = (255, 255, 255)\n",
    "    textRGB       = (0, 0, 0)\n",
    "    img  = PIL.Image.new('RGB', canvasSize, backgroundRGB)\n",
    "    draw = PIL.ImageDraw.Draw(img)\n",
    "    font = PIL.ImageFont.truetype(ttfontname, fontsize)\n",
    "    if isVartical:\n",
    "        for i in range(textLength):\n",
    "            topleft = (canvasSize[0]//2-fontsize//2,fontsize*i)\n",
    "            draw.text(topleft, text[i], fill=textRGB, font=font)\n",
    "    else:\n",
    "        for i in range(textLength):\n",
    "            topleft = (fontsize*i, canvasSize[1]//2-fontsize//2-margin//2)\n",
    "            draw.text(topleft, text[i], fill=textRGB, font=font)\n",
    "    img.save(imagePath)"
   ]
  },
  {
   "attachments": {},
   "cell_type": "markdown",
   "id": "44231629",
   "metadata": {},
   "source": [
    "# 文字の集合体で文字を書くコード"
   ]
  },
  {
   "cell_type": "code",
   "execution_count": 19,
   "id": "86cdb957",
   "metadata": {},
   "outputs": [],
   "source": [
    "def print_text(imagePath:str,myword:str) -> None:\n",
    "    \"\"\"\n",
    "    Create a collection of characters as a text file\n",
    "    \"\"\"\n",
    "    im = PIL.Image.open(imagePath)\n",
    "    im = im.convert('L')\n",
    "    plt.gray()\n",
    "    imagearray = np.asarray(im)\n",
    "        \n",
    "    plt.imshow(imagearray)\n",
    "    \n",
    "    count = 0\n",
    "    def word_out(value:int,myword:str):\n",
    "        \"\"\"\n",
    "        At coordinates where there are character lines in the image, \n",
    "        the string data is returned,\n",
    "         and full-width spaces are returned where there are no characters.\n",
    "        \"\"\"\n",
    "        mywordcount = len(myword)\n",
    "        nonlocal count\n",
    "        if value > 250:\n",
    "            return \"　\"\n",
    "        else:\n",
    "            if count == mywordcount:\n",
    "                count = 0\n",
    "            count += 1\n",
    "            return myword[count-1]\n",
    "    \n",
    "    if os.path.isfile(outputtextpath):\n",
    "        os.remove(outputtextpath)\n",
    "\n",
    "    for item in imagearray:\n",
    "        mystr = \"\".join([word_out(i,myword=myword) for i in item])\n",
    "        print(mystr, file=codecs.open(outputtextpath, 'a', 'utf-8'))\n"
   ]
  },
  {
   "cell_type": "code",
   "execution_count": 20,
   "id": "16e418c5",
   "metadata": {},
   "outputs": [],
   "source": [
    "def print_text_right(imagePath:str,myword:str) -> None:\n",
    "    \"\"\"\n",
    "    Create a collection of characters as a text file\n",
    "    \"\"\"\n",
    "    im = PIL.Image.open(imagePath)\n",
    "    im = im.convert('L')\n",
    "    plt.gray()\n",
    "    imagearray = np.asarray(im)\n",
    "    imagearray = imagearray.T\n",
    "    \n",
    "    count = 0\n",
    "    def word_out(value:int,myword:str):\n",
    "        \"\"\"\n",
    "        At coordinates where there are character lines in the image, \n",
    "        the string data is returned,\n",
    "         and full-width spaces are returned where there are no characters.\n",
    "        \"\"\"\n",
    "        mywordcount = len(myword)\n",
    "        nonlocal count\n",
    "        if value > 250:\n",
    "            return \"　\"\n",
    "        else:\n",
    "            if count == mywordcount:\n",
    "                count = 0\n",
    "            count += 1\n",
    "            return myword[count-1]\n",
    "    \n",
    "    if os.path.isfile(outputtextpath):\n",
    "        os.remove(outputtextpath)\n",
    "    newarray =[]\n",
    "    for index in range(len(imagearray)-1,0,-1):\n",
    "        newarray.append([word_out(i,myword=myword) for i in imagearray[index]])\n",
    "    newarray = newarray[::-1]\n",
    "    arr_1d = np.array(newarray)\n",
    "    imagearray = arr_1d.T\n",
    "    \n",
    "    for item in imagearray:\n",
    "        mystr = \"\".join([i for i in item])\n",
    "        print(mystr, file=codecs.open(outputtextpath, 'a', 'utf-8'))\n"
   ]
  },
  {
   "attachments": {},
   "cell_type": "markdown",
   "id": "7ab78c7a",
   "metadata": {},
   "source": [
    "# 実行"
   ]
  },
  {
   "cell_type": "code",
   "execution_count": 21,
   "id": "b3b27437",
   "metadata": {},
   "outputs": [
    {
     "data": {
      "image/png": "[encoded data removed]",
      "text/plain": [
       "<Figure size 640x480 with 1 Axes>"
      ]
     },
     "metadata": {},
     "output_type": "display_data"
    }
   ],
   "source": [
    "make_text_Image(text=\"こんにちは\",fontsize=20)\n",
    "# こんにちは、という言葉の集合体で、文字を描いていく。\n",
    "# print_text(imagePath=imagePath,myword=\"こんにちは\",isRightStart=True)\n",
    "print_text_right(imagePath=imagePath,myword=\"こんにちは\")"
   ]
  }
 ],
 "metadata": {
  "kernelspec": {
   "display_name": ".venv",
   "language": "python",
   "name": "python3"
  },
  "language_info": {
   "codemirror_mode": {
    "name": "ipython",
    "version": 3
   },
   "file_extension": ".py",
   "mimetype": "text/x-python",
   "name": "python",
   "nbconvert_exporter": "python",
   "pygments_lexer": "ipython3",
   "version": "3.9.5"
  },
  "vscode": {
   "interpreter": {
    "hash": "4474458a27a8973e1518e3f85798395c717198a97afe729ca1ca253aa593cf1d"
   }
  }
 },
 "nbformat": 4,
 "nbformat_minor": 5
}
