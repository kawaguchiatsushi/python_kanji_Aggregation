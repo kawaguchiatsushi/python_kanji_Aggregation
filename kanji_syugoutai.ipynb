{
 "cells": [
  {
   "cell_type": "code",
   "execution_count": 4,
   "id": "4a0efce5",
   "metadata": {},
   "outputs": [],
   "source": [
    "import PIL.Image\n",
    "import PIL.ImageDraw\n",
    "import PIL.ImageFont\n",
    "\n",
    "imagePath = \"image.png\"\n",
    "ttfontname = \"C:\\\\Windows\\\\Fonts\\\\meiryob.ttc\"\n",
    "\n",
    "def makeKanjiImage(text,fontsize=12,isVartical=True):\n",
    "  \n",
    "    margin = int(fontsize / 3)\n",
    "    textLength = len(text)\n",
    "    canvasSize = (fontsize,fontsize)\n",
    "    if isVartical:\n",
    "        canvasSize = (fontsize+margin,fontsize*textLength + margin)\n",
    "    else:\n",
    "        canvasSize = (fontsize*textLength +margin,fontsize +margin)\n",
    "    backgroundRGB = (255, 255, 255)\n",
    "    textRGB       = (0, 0, 0)\n",
    "    img  = PIL.Image.new('RGB', canvasSize, backgroundRGB)\n",
    "    draw = PIL.ImageDraw.Draw(img)\n",
    "    font = PIL.ImageFont.truetype(ttfontname, fontsize)\n",
    "    if isVartical:\n",
    "        for i in range(textLength):\n",
    "            topleft = (canvasSize[0]//2-fontsize//2,fontsize*i)\n",
    "            draw.text(topleft, text[i], fill=textRGB, font=font)\n",
    "    else:\n",
    "        for i in range(textLength):\n",
    "            topleft = (fontsize*i, canvasSize[1]//2-fontsize//2-margin//2)\n",
    "            draw.text(topleft, text[i], fill=textRGB, font=font)\n",
    "    img.save(imagePath)"
   ]
  },
  {
   "cell_type": "code",
   "execution_count": 5,
   "id": "8abbe372",
   "metadata": {},
   "outputs": [],
   "source": [
    "makeKanjiImage(text=\"こんにちは\",fontsize=100)"
   ]
  },
  {
   "cell_type": "code",
   "execution_count": 7,
   "id": "0f027252",
   "metadata": {},
   "outputs": [],
   "source": [
    "import numpy as np\n",
    "\n",
    "im = PIL.Image.open(imagePath)\n",
    "im = im.convert('L')\n",
    "im.show()"
   ]
  },
  {
   "cell_type": "code",
   "execution_count": 8,
   "id": "60070404",
   "metadata": {},
   "outputs": [
    {
     "data": {
      "text/plain": [
       "<matplotlib.image.AxesImage at 0x1c221afe070>"
      ]
     },
     "execution_count": 8,
     "metadata": {},
     "output_type": "execute_result"
    },
    {
     "data": {
      "image/png": "[encoded data removed]",
      "text/plain": [
       "<Figure size 640x480 with 1 Axes>"
      ]
     },
     "metadata": {},
     "output_type": "display_data"
    }
   ],
   "source": [
    "import matplotlib.pyplot as plt\n",
    "plt.gray()\n",
    "im_array = np.asarray(im)\n",
    "plt.imshow(im_array)"
   ]
  },
  {
   "cell_type": "code",
   "execution_count": 10,
   "id": "86cdb957",
   "metadata": {},
   "outputs": [],
   "source": [
    "import codecs\n",
    "\n",
    "count = 0\n",
    "def myWordOut(value:int,myword:str):\n",
    "    mywordcount = len(myword)\n",
    "    global count\n",
    "    if value > 250:\n",
    "        return \" \"\n",
    "    else:\n",
    "        if count == mywordcount:\n",
    "            count = 0\n",
    "        count += 1\n",
    "        return myword[count-1]\n",
    "\n",
    "for item in im_array:\n",
    "    mystr = \" \".join([myWordOut(i,myword=\"こんにちは\") for i in item])\n",
    "    print(mystr, file=codecs.open('output.txt', 'a', 'utf-8'))\n"
   ]
  }
 ],
 "metadata": {
  "kernelspec": {
   "display_name": ".venv",
   "language": "python",
   "name": "python3"
  },
  "language_info": {
   "codemirror_mode": {
    "name": "ipython",
    "version": 3
   },
   "file_extension": ".py",
   "mimetype": "text/x-python",
   "name": "python",
   "nbconvert_exporter": "python",
   "pygments_lexer": "ipython3",
   "version": "3.9.5 (tags/v3.9.5:0a7dcbd, May  3 2021, 17:27:52) [MSC v.1928 64 bit (AMD64)]"
  },
  "vscode": {
   "interpreter": {
    "hash": "4474458a27a8973e1518e3f85798395c717198a97afe729ca1ca253aa593cf1d"
   }
  }
 },
 "nbformat": 4,
 "nbformat_minor": 5
}
